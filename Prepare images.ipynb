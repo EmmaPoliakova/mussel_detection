{
 "cells": [
  {
   "cell_type": "code",
   "execution_count": 15,
   "id": "d8ccb016",
   "metadata": {},
   "outputs": [],
   "source": [
    "import cv2\n",
    "import numpy as np\n",
    "import os\n",
    "from os import listdir\n",
    "import matplotlib.pyplot as plt"
   ]
  },
  {
   "cell_type": "code",
   "execution_count": 12,
   "id": "c817406e",
   "metadata": {},
   "outputs": [],
   "source": [
    "folder_dir = \"./\"\n",
    "for image in os.listdir(folder_dir):\n",
    "    if (image.endswith(\".jpg\")):\n",
    "        img = cv2.imread('./'+image, cv2.IMREAD_GRAYSCALE)\n",
    "        x = 2500\n",
    "        y = 2000\n",
    "        \n",
    "        for i in range(2): \n",
    "            for j in range(2):\n",
    "                seg = img[i*x: (i+1)*x, j*y:(j+1)*y]\n",
    "                cv2.imwrite('./sections/'+str(i)+str(j)+image, seg)"
   ]
  },
  {
   "cell_type": "code",
   "execution_count": 16,
   "id": "8dc49f86",
   "metadata": {},
   "outputs": [],
   "source": [
    "img1 = cv2.imread('../Orthomosaic_DEM/M_modiolus.png', cv2.IMREAD_GRAYSCALE)\n",
    "img2 = cv2.imread('../Orthomosaic_DEM/M_modiolus_DEM_RGB.png', cv2.IMREAD_GRAYSCALE)\n",
    "\n",
    "img1 = cv2.resize(img1, (12023,22221)) \n",
    "dst = cv2.addWeighted(img1,0.7,img2,0.3,0)"
   ]
  },
  {
   "cell_type": "code",
   "execution_count": 21,
   "id": "02c90f9e",
   "metadata": {},
   "outputs": [],
   "source": [
    "x = 2500\n",
    "y = 2000\n",
    "for i in range(8): \n",
    "    for j in range(6):\n",
    "        seg = dst[i*x: (i+1)*x, j*y:(j+1)*y]\n",
    "        cv2.imwrite('./counts/'+str(i)+str(j)+'.png', seg)"
   ]
  },
  {
   "cell_type": "code",
   "execution_count": null,
   "id": "e9eeab35",
   "metadata": {},
   "outputs": [],
   "source": []
  }
 ],
 "metadata": {
  "kernelspec": {
   "display_name": "Python 3",
   "language": "python",
   "name": "python3"
  },
  "language_info": {
   "codemirror_mode": {
    "name": "ipython",
    "version": 3
   },
   "file_extension": ".py",
   "mimetype": "text/x-python",
   "name": "python",
   "nbconvert_exporter": "python",
   "pygments_lexer": "ipython3",
   "version": "3.9.13"
  }
 },
 "nbformat": 4,
 "nbformat_minor": 5
}
